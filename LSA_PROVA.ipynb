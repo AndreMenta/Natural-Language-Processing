{
  "nbformat": 4,
  "nbformat_minor": 0,
  "metadata": {
    "colab": {
      "provenance": [],
      "authorship_tag": "ABX9TyNG2Cd2S0CURIKIfuDQAgGc"
    },
    "kernelspec": {
      "name": "python3",
      "display_name": "Python 3"
    },
    "language_info": {
      "name": "python"
    }
  },
  "cells": [
    {
      "cell_type": "markdown",
      "source": [
        "**COERENZA LSA**"
      ],
      "metadata": {
        "id": "VCS1fxn-9QLQ"
      }
    },
    {
      "cell_type": "markdown",
      "source": [
        "\n",
        "\n",
        "**1 - IMPORT AND PREPROCESSING**\n",
        "\n"
      ],
      "metadata": {
        "id": "nYlUBbNyYGJ_"
      }
    },
    {
      "cell_type": "code",
      "source": [
        "import os.path\n",
        "from gensim import corpora\n",
        "from gensim.models import LsiModel\n",
        "from nltk.tokenize import RegexpTokenizer\n",
        "from nltk.corpus import stopwords\n",
        "from nltk.stem.porter import PorterStemmer\n",
        "from gensim.models.coherencemodel import CoherenceModel\n",
        "import matplotlib.pyplot as plt\n",
        "\n",
        "import pandas as pd\n",
        "import os\n",
        "import nltk\n",
        "nltk.download('stopwords')\n",
        "from nltk.corpus import stopwords\n",
        "import gensim\n",
        "from gensim.utils import simple_preprocess\n",
        "\n",
        "from google.colab import drive \n",
        "drive.mount('/content/drive')\n",
        "\n",
        "import re\n",
        "import tqdm"
      ],
      "metadata": {
        "colab": {
          "base_uri": "https://localhost:8080/"
        },
        "id": "McChmpnStETH",
        "outputId": "e25b5ff0-e01f-4838-c7d5-591ca5d792d8"
      },
      "execution_count": null,
      "outputs": [
        {
          "output_type": "stream",
          "name": "stderr",
          "text": [
            "[nltk_data] Downloading package stopwords to /root/nltk_data...\n",
            "[nltk_data]   Unzipping corpora/stopwords.zip.\n"
          ]
        },
        {
          "output_type": "stream",
          "name": "stdout",
          "text": [
            "Mounted at /content/drive\n"
          ]
        }
      ]
    },
    {
      "cell_type": "code",
      "source": [
        "filtered_dataset = pd.read_csv('/content/drive/MyDrive/PYTHON/Latent Dirichlet Alg/dataset_informatica_full.csv')\n",
        "filtered_dataset = filtered_dataset.drop(columns = ['keywords', 'Unnamed: 0', 'Unnamed: 0.1','authors', 'language',\n",
        "                                'difficulty', 'format', 'duration', 'public', 'min_age', 'max_age',\n",
        "                                'resource_image', 'WikiLink','link','type', 'Upload_Date'], axis=1)\n",
        "filtered_dataset = filtered_dataset[filtered_dataset['WikiDescription']!=\"0\"]\n",
        "filtered_dataset = filtered_dataset[filtered_dataset['WikiDescription']!=\"-\"]\n",
        "filtered_dataset = filtered_dataset[filtered_dataset['WikiDescription']!='']\n",
        "\n",
        "filtered_dataset['text_preprocessed']=filtered_dataset['WikiDescription'].map(lambda x: re.sub('[,.\\!?]', '', x))\n",
        "filtered_dataset['text_preprocessed']=filtered_dataset['text_preprocessed'].map(lambda x: x.lower())\n",
        "\n",
        "filtered_dataset[:2]"
      ],
      "metadata": {
        "colab": {
          "base_uri": "https://localhost:8080/",
          "height": 112
        },
        "id": "htHvBjm75gUz",
        "outputId": "dc971262-e88e-400f-db3a-fef6dcd72d52"
      },
      "execution_count": null,
      "outputs": [
        {
          "output_type": "execute_result",
          "data": {
            "text/plain": [
              "                        disciplines             title  \\\n",
              "0  Applied Science/Computer Science  Intro to Scratch   \n",
              "1  Applied Science/Computer Science  Intro to Scratch   \n",
              "\n",
              "                                         description  \\\n",
              "0  In this lesson, students will begin exploring ...   \n",
              "1  Students encounter the Scratch programming pla...   \n",
              "\n",
              "                                     WikiDescription  \\\n",
              "0  Scratch è un ambiente di programmazione gratui...   \n",
              "1  Scratch è adatto a studenti, insegnanti e geni...   \n",
              "\n",
              "                                   text_preprocessed  \n",
              "0  scratch è un ambiente di programmazione gratui...  \n",
              "1  scratch è adatto a studenti insegnanti e genit...  "
            ],
            "text/html": [
              "\n",
              "  <div id=\"df-9f700c29-3fd1-4111-8e26-81dd76e6e6c1\">\n",
              "    <div class=\"colab-df-container\">\n",
              "      <div>\n",
              "<style scoped>\n",
              "    .dataframe tbody tr th:only-of-type {\n",
              "        vertical-align: middle;\n",
              "    }\n",
              "\n",
              "    .dataframe tbody tr th {\n",
              "        vertical-align: top;\n",
              "    }\n",
              "\n",
              "    .dataframe thead th {\n",
              "        text-align: right;\n",
              "    }\n",
              "</style>\n",
              "<table border=\"1\" class=\"dataframe\">\n",
              "  <thead>\n",
              "    <tr style=\"text-align: right;\">\n",
              "      <th></th>\n",
              "      <th>disciplines</th>\n",
              "      <th>title</th>\n",
              "      <th>description</th>\n",
              "      <th>WikiDescription</th>\n",
              "      <th>text_preprocessed</th>\n",
              "    </tr>\n",
              "  </thead>\n",
              "  <tbody>\n",
              "    <tr>\n",
              "      <th>0</th>\n",
              "      <td>Applied Science/Computer Science</td>\n",
              "      <td>Intro to Scratch</td>\n",
              "      <td>In this lesson, students will begin exploring ...</td>\n",
              "      <td>Scratch è un ambiente di programmazione gratui...</td>\n",
              "      <td>scratch è un ambiente di programmazione gratui...</td>\n",
              "    </tr>\n",
              "    <tr>\n",
              "      <th>1</th>\n",
              "      <td>Applied Science/Computer Science</td>\n",
              "      <td>Intro to Scratch</td>\n",
              "      <td>Students encounter the Scratch programming pla...</td>\n",
              "      <td>Scratch è adatto a studenti, insegnanti e geni...</td>\n",
              "      <td>scratch è adatto a studenti insegnanti e genit...</td>\n",
              "    </tr>\n",
              "  </tbody>\n",
              "</table>\n",
              "</div>\n",
              "      <button class=\"colab-df-convert\" onclick=\"convertToInteractive('df-9f700c29-3fd1-4111-8e26-81dd76e6e6c1')\"\n",
              "              title=\"Convert this dataframe to an interactive table.\"\n",
              "              style=\"display:none;\">\n",
              "        \n",
              "  <svg xmlns=\"http://www.w3.org/2000/svg\" height=\"24px\"viewBox=\"0 0 24 24\"\n",
              "       width=\"24px\">\n",
              "    <path d=\"M0 0h24v24H0V0z\" fill=\"none\"/>\n",
              "    <path d=\"M18.56 5.44l.94 2.06.94-2.06 2.06-.94-2.06-.94-.94-2.06-.94 2.06-2.06.94zm-11 1L8.5 8.5l.94-2.06 2.06-.94-2.06-.94L8.5 2.5l-.94 2.06-2.06.94zm10 10l.94 2.06.94-2.06 2.06-.94-2.06-.94-.94-2.06-.94 2.06-2.06.94z\"/><path d=\"M17.41 7.96l-1.37-1.37c-.4-.4-.92-.59-1.43-.59-.52 0-1.04.2-1.43.59L10.3 9.45l-7.72 7.72c-.78.78-.78 2.05 0 2.83L4 21.41c.39.39.9.59 1.41.59.51 0 1.02-.2 1.41-.59l7.78-7.78 2.81-2.81c.8-.78.8-2.07 0-2.86zM5.41 20L4 18.59l7.72-7.72 1.47 1.35L5.41 20z\"/>\n",
              "  </svg>\n",
              "      </button>\n",
              "      \n",
              "  <style>\n",
              "    .colab-df-container {\n",
              "      display:flex;\n",
              "      flex-wrap:wrap;\n",
              "      gap: 12px;\n",
              "    }\n",
              "\n",
              "    .colab-df-convert {\n",
              "      background-color: #E8F0FE;\n",
              "      border: none;\n",
              "      border-radius: 50%;\n",
              "      cursor: pointer;\n",
              "      display: none;\n",
              "      fill: #1967D2;\n",
              "      height: 32px;\n",
              "      padding: 0 0 0 0;\n",
              "      width: 32px;\n",
              "    }\n",
              "\n",
              "    .colab-df-convert:hover {\n",
              "      background-color: #E2EBFA;\n",
              "      box-shadow: 0px 1px 2px rgba(60, 64, 67, 0.3), 0px 1px 3px 1px rgba(60, 64, 67, 0.15);\n",
              "      fill: #174EA6;\n",
              "    }\n",
              "\n",
              "    [theme=dark] .colab-df-convert {\n",
              "      background-color: #3B4455;\n",
              "      fill: #D2E3FC;\n",
              "    }\n",
              "\n",
              "    [theme=dark] .colab-df-convert:hover {\n",
              "      background-color: #434B5C;\n",
              "      box-shadow: 0px 1px 3px 1px rgba(0, 0, 0, 0.15);\n",
              "      filter: drop-shadow(0px 1px 2px rgba(0, 0, 0, 0.3));\n",
              "      fill: #FFFFFF;\n",
              "    }\n",
              "  </style>\n",
              "\n",
              "      <script>\n",
              "        const buttonEl =\n",
              "          document.querySelector('#df-9f700c29-3fd1-4111-8e26-81dd76e6e6c1 button.colab-df-convert');\n",
              "        buttonEl.style.display =\n",
              "          google.colab.kernel.accessAllowed ? 'block' : 'none';\n",
              "\n",
              "        async function convertToInteractive(key) {\n",
              "          const element = document.querySelector('#df-9f700c29-3fd1-4111-8e26-81dd76e6e6c1');\n",
              "          const dataTable =\n",
              "            await google.colab.kernel.invokeFunction('convertToInteractive',\n",
              "                                                     [key], {});\n",
              "          if (!dataTable) return;\n",
              "\n",
              "          const docLinkHtml = 'Like what you see? Visit the ' +\n",
              "            '<a target=\"_blank\" href=https://colab.research.google.com/notebooks/data_table.ipynb>data table notebook</a>'\n",
              "            + ' to learn more about interactive tables.';\n",
              "          element.innerHTML = '';\n",
              "          dataTable['output_type'] = 'display_data';\n",
              "          await google.colab.output.renderOutput(dataTable, element);\n",
              "          const docLink = document.createElement('div');\n",
              "          docLink.innerHTML = docLinkHtml;\n",
              "          element.appendChild(docLink);\n",
              "        }\n",
              "      </script>\n",
              "    </div>\n",
              "  </div>\n",
              "  "
            ]
          },
          "metadata": {},
          "execution_count": 2
        }
      ]
    },
    {
      "cell_type": "code",
      "source": [
        "stop_words = stopwords.words('italian')\n",
        "\n",
        "def sent_to_words(sentence):\n",
        "    yield(gensim.utils.simple_preprocess(str(sentence), deacc=True)) #converting the raw text into a list of tokens (words) deacc removes accents\n",
        "    \n",
        "def remove_stopwords(texts):\n",
        "    return [[word for word in simple_preprocess(str(doc)) \n",
        "             if word not in stop_words] for doc in texts]"
      ],
      "metadata": {
        "id": "kCTG_SnuXpQa"
      },
      "execution_count": null,
      "outputs": []
    },
    {
      "cell_type": "code",
      "source": [
        "for index, row in filtered_dataset.iterrows():\n",
        "        data = row['text_preprocessed']\n",
        "        if (data != '' or data != '-') :\n",
        "            words = sent_to_words(data) #da scrivere list\n",
        "            words = remove_stopwords(words)\n",
        "            row['text_preprocessed']=str(words)\n"
      ],
      "metadata": {
        "id": "GmDvyHuhIW50"
      },
      "execution_count": null,
      "outputs": []
    },
    {
      "cell_type": "code",
      "source": [
        "filtered_dataset[:2]"
      ],
      "metadata": {
        "colab": {
          "base_uri": "https://localhost:8080/",
          "height": 112
        },
        "id": "8NVo-cw1I6S7",
        "outputId": "2783a9a1-7319-48f3-f67c-dc95efdb2036"
      },
      "execution_count": null,
      "outputs": [
        {
          "output_type": "execute_result",
          "data": {
            "text/plain": [
              "                        disciplines             title  \\\n",
              "0  Applied Science/Computer Science  Intro to Scratch   \n",
              "1  Applied Science/Computer Science  Intro to Scratch   \n",
              "\n",
              "                                         description  \\\n",
              "0  In this lesson, students will begin exploring ...   \n",
              "1  Students encounter the Scratch programming pla...   \n",
              "\n",
              "                                     WikiDescription  \\\n",
              "0  Scratch è un ambiente di programmazione gratui...   \n",
              "1  Scratch è adatto a studenti, insegnanti e geni...   \n",
              "\n",
              "                                   text_preprocessed  \n",
              "0  [['scratch', 'ambiente', 'programmazione', 'gr...  \n",
              "1  [['scratch', 'adatto', 'studenti', 'insegnanti...  "
            ],
            "text/html": [
              "\n",
              "  <div id=\"df-c4eece06-e8dd-47db-b949-d45f328f01ff\">\n",
              "    <div class=\"colab-df-container\">\n",
              "      <div>\n",
              "<style scoped>\n",
              "    .dataframe tbody tr th:only-of-type {\n",
              "        vertical-align: middle;\n",
              "    }\n",
              "\n",
              "    .dataframe tbody tr th {\n",
              "        vertical-align: top;\n",
              "    }\n",
              "\n",
              "    .dataframe thead th {\n",
              "        text-align: right;\n",
              "    }\n",
              "</style>\n",
              "<table border=\"1\" class=\"dataframe\">\n",
              "  <thead>\n",
              "    <tr style=\"text-align: right;\">\n",
              "      <th></th>\n",
              "      <th>disciplines</th>\n",
              "      <th>title</th>\n",
              "      <th>description</th>\n",
              "      <th>WikiDescription</th>\n",
              "      <th>text_preprocessed</th>\n",
              "    </tr>\n",
              "  </thead>\n",
              "  <tbody>\n",
              "    <tr>\n",
              "      <th>0</th>\n",
              "      <td>Applied Science/Computer Science</td>\n",
              "      <td>Intro to Scratch</td>\n",
              "      <td>In this lesson, students will begin exploring ...</td>\n",
              "      <td>Scratch è un ambiente di programmazione gratui...</td>\n",
              "      <td>[['scratch', 'ambiente', 'programmazione', 'gr...</td>\n",
              "    </tr>\n",
              "    <tr>\n",
              "      <th>1</th>\n",
              "      <td>Applied Science/Computer Science</td>\n",
              "      <td>Intro to Scratch</td>\n",
              "      <td>Students encounter the Scratch programming pla...</td>\n",
              "      <td>Scratch è adatto a studenti, insegnanti e geni...</td>\n",
              "      <td>[['scratch', 'adatto', 'studenti', 'insegnanti...</td>\n",
              "    </tr>\n",
              "  </tbody>\n",
              "</table>\n",
              "</div>\n",
              "      <button class=\"colab-df-convert\" onclick=\"convertToInteractive('df-c4eece06-e8dd-47db-b949-d45f328f01ff')\"\n",
              "              title=\"Convert this dataframe to an interactive table.\"\n",
              "              style=\"display:none;\">\n",
              "        \n",
              "  <svg xmlns=\"http://www.w3.org/2000/svg\" height=\"24px\"viewBox=\"0 0 24 24\"\n",
              "       width=\"24px\">\n",
              "    <path d=\"M0 0h24v24H0V0z\" fill=\"none\"/>\n",
              "    <path d=\"M18.56 5.44l.94 2.06.94-2.06 2.06-.94-2.06-.94-.94-2.06-.94 2.06-2.06.94zm-11 1L8.5 8.5l.94-2.06 2.06-.94-2.06-.94L8.5 2.5l-.94 2.06-2.06.94zm10 10l.94 2.06.94-2.06 2.06-.94-2.06-.94-.94-2.06-.94 2.06-2.06.94z\"/><path d=\"M17.41 7.96l-1.37-1.37c-.4-.4-.92-.59-1.43-.59-.52 0-1.04.2-1.43.59L10.3 9.45l-7.72 7.72c-.78.78-.78 2.05 0 2.83L4 21.41c.39.39.9.59 1.41.59.51 0 1.02-.2 1.41-.59l7.78-7.78 2.81-2.81c.8-.78.8-2.07 0-2.86zM5.41 20L4 18.59l7.72-7.72 1.47 1.35L5.41 20z\"/>\n",
              "  </svg>\n",
              "      </button>\n",
              "      \n",
              "  <style>\n",
              "    .colab-df-container {\n",
              "      display:flex;\n",
              "      flex-wrap:wrap;\n",
              "      gap: 12px;\n",
              "    }\n",
              "\n",
              "    .colab-df-convert {\n",
              "      background-color: #E8F0FE;\n",
              "      border: none;\n",
              "      border-radius: 50%;\n",
              "      cursor: pointer;\n",
              "      display: none;\n",
              "      fill: #1967D2;\n",
              "      height: 32px;\n",
              "      padding: 0 0 0 0;\n",
              "      width: 32px;\n",
              "    }\n",
              "\n",
              "    .colab-df-convert:hover {\n",
              "      background-color: #E2EBFA;\n",
              "      box-shadow: 0px 1px 2px rgba(60, 64, 67, 0.3), 0px 1px 3px 1px rgba(60, 64, 67, 0.15);\n",
              "      fill: #174EA6;\n",
              "    }\n",
              "\n",
              "    [theme=dark] .colab-df-convert {\n",
              "      background-color: #3B4455;\n",
              "      fill: #D2E3FC;\n",
              "    }\n",
              "\n",
              "    [theme=dark] .colab-df-convert:hover {\n",
              "      background-color: #434B5C;\n",
              "      box-shadow: 0px 1px 3px 1px rgba(0, 0, 0, 0.15);\n",
              "      filter: drop-shadow(0px 1px 2px rgba(0, 0, 0, 0.3));\n",
              "      fill: #FFFFFF;\n",
              "    }\n",
              "  </style>\n",
              "\n",
              "      <script>\n",
              "        const buttonEl =\n",
              "          document.querySelector('#df-c4eece06-e8dd-47db-b949-d45f328f01ff button.colab-df-convert');\n",
              "        buttonEl.style.display =\n",
              "          google.colab.kernel.accessAllowed ? 'block' : 'none';\n",
              "\n",
              "        async function convertToInteractive(key) {\n",
              "          const element = document.querySelector('#df-c4eece06-e8dd-47db-b949-d45f328f01ff');\n",
              "          const dataTable =\n",
              "            await google.colab.kernel.invokeFunction('convertToInteractive',\n",
              "                                                     [key], {});\n",
              "          if (!dataTable) return;\n",
              "\n",
              "          const docLinkHtml = 'Like what you see? Visit the ' +\n",
              "            '<a target=\"_blank\" href=https://colab.research.google.com/notebooks/data_table.ipynb>data table notebook</a>'\n",
              "            + ' to learn more about interactive tables.';\n",
              "          element.innerHTML = '';\n",
              "          dataTable['output_type'] = 'display_data';\n",
              "          await google.colab.output.renderOutput(dataTable, element);\n",
              "          const docLink = document.createElement('div');\n",
              "          docLink.innerHTML = docLinkHtml;\n",
              "          element.appendChild(docLink);\n",
              "        }\n",
              "      </script>\n",
              "    </div>\n",
              "  </div>\n",
              "  "
            ]
          },
          "metadata": {},
          "execution_count": 5
        }
      ]
    },
    {
      "cell_type": "code",
      "source": [
        "riga = filtered_dataset['text_preprocessed'][1]"
      ],
      "metadata": {
        "id": "YjW28Wn_IBRZ"
      },
      "execution_count": null,
      "outputs": []
    },
    {
      "cell_type": "code",
      "source": [
        "from gensim.parsing.preprocessing import remove_stopwords, strip_punctuation \\\n",
        "                                        , preprocess_string, strip_short, stem_text\n",
        "\n",
        "# preprocess given text\n",
        "def preprocess(text):\n",
        "    \n",
        "    # clean text based on given filters\n",
        "    CUSTOM_FILTERS = [lambda x: x.lower(),\n",
        "                                strip_punctuation, \n",
        "                                #strip_short,\n",
        "                                ]\n",
        "\n",
        "    text = preprocess_string(text, CUSTOM_FILTERS)\n",
        "    \n",
        "    return text\n",
        "\n",
        "# apply function to all reviews \n",
        "filtered_dataset['text_preprocessed'] = filtered_dataset['text_preprocessed'].apply(lambda x: preprocess(x))"
      ],
      "metadata": {
        "id": "nI6bRQ-HFr6Q"
      },
      "execution_count": null,
      "outputs": []
    },
    {
      "cell_type": "code",
      "source": [
        "filtered_dataset[:2]"
      ],
      "metadata": {
        "colab": {
          "base_uri": "https://localhost:8080/",
          "height": 112
        },
        "id": "0NSqvfLCFyqF",
        "outputId": "73977db6-73aa-47cd-b3d5-9a9b14ee7362"
      },
      "execution_count": null,
      "outputs": [
        {
          "output_type": "execute_result",
          "data": {
            "text/plain": [
              "                        disciplines             title  \\\n",
              "0  Applied Science/Computer Science  Intro to Scratch   \n",
              "1  Applied Science/Computer Science  Intro to Scratch   \n",
              "\n",
              "                                         description  \\\n",
              "0  In this lesson, students will begin exploring ...   \n",
              "1  Students encounter the Scratch programming pla...   \n",
              "\n",
              "                                     WikiDescription  \\\n",
              "0  Scratch è un ambiente di programmazione gratui...   \n",
              "1  Scratch è adatto a studenti, insegnanti e geni...   \n",
              "\n",
              "                                   text_preprocessed  \n",
              "0  [scratch, ambiente, programmazione, gratuito, ...  \n",
              "1  [scratch, adatto, studenti, insegnanti, genito...  "
            ],
            "text/html": [
              "\n",
              "  <div id=\"df-98a53726-cd72-4372-a314-e950ef54ebd2\">\n",
              "    <div class=\"colab-df-container\">\n",
              "      <div>\n",
              "<style scoped>\n",
              "    .dataframe tbody tr th:only-of-type {\n",
              "        vertical-align: middle;\n",
              "    }\n",
              "\n",
              "    .dataframe tbody tr th {\n",
              "        vertical-align: top;\n",
              "    }\n",
              "\n",
              "    .dataframe thead th {\n",
              "        text-align: right;\n",
              "    }\n",
              "</style>\n",
              "<table border=\"1\" class=\"dataframe\">\n",
              "  <thead>\n",
              "    <tr style=\"text-align: right;\">\n",
              "      <th></th>\n",
              "      <th>disciplines</th>\n",
              "      <th>title</th>\n",
              "      <th>description</th>\n",
              "      <th>WikiDescription</th>\n",
              "      <th>text_preprocessed</th>\n",
              "    </tr>\n",
              "  </thead>\n",
              "  <tbody>\n",
              "    <tr>\n",
              "      <th>0</th>\n",
              "      <td>Applied Science/Computer Science</td>\n",
              "      <td>Intro to Scratch</td>\n",
              "      <td>In this lesson, students will begin exploring ...</td>\n",
              "      <td>Scratch è un ambiente di programmazione gratui...</td>\n",
              "      <td>[scratch, ambiente, programmazione, gratuito, ...</td>\n",
              "    </tr>\n",
              "    <tr>\n",
              "      <th>1</th>\n",
              "      <td>Applied Science/Computer Science</td>\n",
              "      <td>Intro to Scratch</td>\n",
              "      <td>Students encounter the Scratch programming pla...</td>\n",
              "      <td>Scratch è adatto a studenti, insegnanti e geni...</td>\n",
              "      <td>[scratch, adatto, studenti, insegnanti, genito...</td>\n",
              "    </tr>\n",
              "  </tbody>\n",
              "</table>\n",
              "</div>\n",
              "      <button class=\"colab-df-convert\" onclick=\"convertToInteractive('df-98a53726-cd72-4372-a314-e950ef54ebd2')\"\n",
              "              title=\"Convert this dataframe to an interactive table.\"\n",
              "              style=\"display:none;\">\n",
              "        \n",
              "  <svg xmlns=\"http://www.w3.org/2000/svg\" height=\"24px\"viewBox=\"0 0 24 24\"\n",
              "       width=\"24px\">\n",
              "    <path d=\"M0 0h24v24H0V0z\" fill=\"none\"/>\n",
              "    <path d=\"M18.56 5.44l.94 2.06.94-2.06 2.06-.94-2.06-.94-.94-2.06-.94 2.06-2.06.94zm-11 1L8.5 8.5l.94-2.06 2.06-.94-2.06-.94L8.5 2.5l-.94 2.06-2.06.94zm10 10l.94 2.06.94-2.06 2.06-.94-2.06-.94-.94-2.06-.94 2.06-2.06.94z\"/><path d=\"M17.41 7.96l-1.37-1.37c-.4-.4-.92-.59-1.43-.59-.52 0-1.04.2-1.43.59L10.3 9.45l-7.72 7.72c-.78.78-.78 2.05 0 2.83L4 21.41c.39.39.9.59 1.41.59.51 0 1.02-.2 1.41-.59l7.78-7.78 2.81-2.81c.8-.78.8-2.07 0-2.86zM5.41 20L4 18.59l7.72-7.72 1.47 1.35L5.41 20z\"/>\n",
              "  </svg>\n",
              "      </button>\n",
              "      \n",
              "  <style>\n",
              "    .colab-df-container {\n",
              "      display:flex;\n",
              "      flex-wrap:wrap;\n",
              "      gap: 12px;\n",
              "    }\n",
              "\n",
              "    .colab-df-convert {\n",
              "      background-color: #E8F0FE;\n",
              "      border: none;\n",
              "      border-radius: 50%;\n",
              "      cursor: pointer;\n",
              "      display: none;\n",
              "      fill: #1967D2;\n",
              "      height: 32px;\n",
              "      padding: 0 0 0 0;\n",
              "      width: 32px;\n",
              "    }\n",
              "\n",
              "    .colab-df-convert:hover {\n",
              "      background-color: #E2EBFA;\n",
              "      box-shadow: 0px 1px 2px rgba(60, 64, 67, 0.3), 0px 1px 3px 1px rgba(60, 64, 67, 0.15);\n",
              "      fill: #174EA6;\n",
              "    }\n",
              "\n",
              "    [theme=dark] .colab-df-convert {\n",
              "      background-color: #3B4455;\n",
              "      fill: #D2E3FC;\n",
              "    }\n",
              "\n",
              "    [theme=dark] .colab-df-convert:hover {\n",
              "      background-color: #434B5C;\n",
              "      box-shadow: 0px 1px 3px 1px rgba(0, 0, 0, 0.15);\n",
              "      filter: drop-shadow(0px 1px 2px rgba(0, 0, 0, 0.3));\n",
              "      fill: #FFFFFF;\n",
              "    }\n",
              "  </style>\n",
              "\n",
              "      <script>\n",
              "        const buttonEl =\n",
              "          document.querySelector('#df-98a53726-cd72-4372-a314-e950ef54ebd2 button.colab-df-convert');\n",
              "        buttonEl.style.display =\n",
              "          google.colab.kernel.accessAllowed ? 'block' : 'none';\n",
              "\n",
              "        async function convertToInteractive(key) {\n",
              "          const element = document.querySelector('#df-98a53726-cd72-4372-a314-e950ef54ebd2');\n",
              "          const dataTable =\n",
              "            await google.colab.kernel.invokeFunction('convertToInteractive',\n",
              "                                                     [key], {});\n",
              "          if (!dataTable) return;\n",
              "\n",
              "          const docLinkHtml = 'Like what you see? Visit the ' +\n",
              "            '<a target=\"_blank\" href=https://colab.research.google.com/notebooks/data_table.ipynb>data table notebook</a>'\n",
              "            + ' to learn more about interactive tables.';\n",
              "          element.innerHTML = '';\n",
              "          dataTable['output_type'] = 'display_data';\n",
              "          await google.colab.output.renderOutput(dataTable, element);\n",
              "          const docLink = document.createElement('div');\n",
              "          docLink.innerHTML = docLinkHtml;\n",
              "          element.appendChild(docLink);\n",
              "        }\n",
              "      </script>\n",
              "    </div>\n",
              "  </div>\n",
              "  "
            ]
          },
          "metadata": {},
          "execution_count": 19
        }
      ]
    },
    {
      "cell_type": "code",
      "source": [
        "filtered_dataset['text_preprocessed'][1]"
      ],
      "metadata": {
        "colab": {
          "base_uri": "https://localhost:8080/",
          "height": 36
        },
        "id": "yR0lFvXvIr3e",
        "outputId": "ae30d34f-0ea3-4566-9f90-3046ae11dd57"
      },
      "execution_count": null,
      "outputs": [
        {
          "output_type": "execute_result",
          "data": {
            "text/plain": [
              "'scratch'"
            ],
            "application/vnd.google.colaboratory.intrinsic+json": {
              "type": "string"
            }
          },
          "metadata": {},
          "execution_count": 21
        }
      ]
    },
    {
      "cell_type": "markdown",
      "source": [
        "**IMPLEMENTAZIONE LSA**"
      ],
      "metadata": {
        "id": "X92gUjarYU3B"
      }
    },
    {
      "cell_type": "code",
      "source": [
        "### PROVA\n",
        "\n",
        "from gensim import corpora\n",
        "from gensim.models import LsiModel\n",
        "from gensim.models.coherencemodel import CoherenceModel\n",
        "\n",
        "def lsa_model(dataset, num_topics):\n",
        "  \n",
        "  corpus = dataset['text_preprocessed']\n",
        "  dictionary = corpora.Dictionary(corpus) \n",
        "  bow = [dictionary.doc2bow(text) for text in corpus]\n",
        "\n",
        "  lsi = LsiModel(bow, num_topics=num_topics, id2word=dictionary)\n",
        "  \n",
        "  coherence_model = CoherenceModel(model=lsi,\n",
        "                                   texts = dataset['text_preprocessed'],\n",
        "                                   dictionary = dictionary, coherence='c_v')\n",
        "  coherence_score = coherence_model.get_coherence()\n",
        "\n",
        "  return coherence_score"
      ],
      "metadata": {
        "id": "xFfwrwkxvhJE"
      },
      "execution_count": null,
      "outputs": []
    },
    {
      "cell_type": "code",
      "source": [
        "## prova\n",
        "\n",
        "c_list = []\n",
        "index = []\n",
        "\n",
        "for i in range(1,15):\n",
        "  c = lsa_model(filtered_dataset, num_topics = i)\n",
        "  c_list.append(c)\n",
        "  index.append(i)"
      ],
      "metadata": {
        "id": "H068Y0jCGj-E"
      },
      "execution_count": null,
      "outputs": []
    },
    {
      "cell_type": "code",
      "source": [
        "## prova\n",
        "\n",
        "coh_dict = {'num_topics':index,\n",
        "            'coherence':c_list\n",
        "            }\n",
        "\n",
        "coh_df = pd.DataFrame(coh_dict)\n",
        "coh_df\n",
        "#coh_df.sort_values(by = 'coherence', ascending = False)"
      ],
      "metadata": {
        "id": "-s6ue8elMdvU"
      },
      "execution_count": null,
      "outputs": []
    },
    {
      "cell_type": "code",
      "source": [
        "#### FUNZIONE FINALE\n",
        "\n",
        "import tqdm\n",
        "pbar = tqdm.tqdm(total=int(filtered_dataset.shape[0]))\n",
        "coherences = []\n",
        "topics = []\n",
        "\n",
        "def coherence_model(dataset, num_of_topics = 1):\n",
        "\n",
        "  for index, row in dataset.iterrows():\n",
        "\n",
        "    corpus = row['text_preprocessed']\n",
        "    words = list(sent_to_words(corpus))\n",
        "    dictionary = corpora.Dictionary(words)\n",
        "    texts = words\n",
        "    bow = [dictionary.doc2bow(text) for text in texts]\n",
        "\n",
        "    lsi = LsiModel(bow, num_topics=num_of_topics, id2word=dictionary)\n",
        "    topic = lsi.show_topics(num_topics = 1)\n",
        "    topics.append(topic)\n",
        "\n",
        "    coherence_model = CoherenceModel(model=lsi, texts = words,\n",
        "                                     dictionary = dictionary, coherence='c_v')\n",
        "    coherence_score = coherence_model.get_coherence()\n",
        "    coherences.append(coherence_score)\n",
        "\n",
        "    pbar.update(1)\n"
      ],
      "metadata": {
        "colab": {
          "base_uri": "https://localhost:8080/"
        },
        "id": "JYAfIW27Rz_K",
        "outputId": "8d88956d-1a1a-40a5-ca6f-c2f03e407785"
      },
      "execution_count": null,
      "outputs": [
        {
          "output_type": "stream",
          "name": "stderr",
          "text": [
            "\r  0%|          | 0/1066 [00:00<?, ?it/s]"
          ]
        }
      ]
    },
    {
      "cell_type": "code",
      "source": [
        "coherence_model(filtered_dataset)"
      ],
      "metadata": {
        "colab": {
          "base_uri": "https://localhost:8080/"
        },
        "id": "W5ESwTfwaElw",
        "outputId": "d75fe2c1-4b36-4407-c6fa-059a5f9dc3f9"
      },
      "execution_count": null,
      "outputs": [
        {
          "output_type": "stream",
          "name": "stderr",
          "text": [
            "100%|██████████| 1066/1066 [01:10<00:00, 17.36it/s]"
          ]
        }
      ]
    },
    {
      "cell_type": "code",
      "source": [
        "filtered_dataset['topics'] = topics\n",
        "filtered_dataset['coherence'] = coherences\n",
        "filtered_dataset.coherence.mean(), filtered_dataset.coherence.std()"
      ],
      "metadata": {
        "colab": {
          "base_uri": "https://localhost:8080/"
        },
        "id": "YWwthGsNHqod",
        "outputId": "fb79dcb8-afbd-4b0d-d638-37b1cef195ea"
      },
      "execution_count": null,
      "outputs": [
        {
          "output_type": "execute_result",
          "data": {
            "text/plain": [
              "(0.9603719394706481, 0.14562254597732857)"
            ]
          },
          "metadata": {},
          "execution_count": 26
        }
      ]
    },
    {
      "cell_type": "code",
      "source": [
        "filtered_dataset = filtered_dataset.reset_index()\n",
        "for index, row in filtered_dataset.iterrows():\n",
        "    #print(index)\n",
        "    topicstringtemp = ''\n",
        "    for i in range(1):\n",
        "        topicstring = re.sub('[1234567890.*\" ]', '', topics[index][i][1])\n",
        "        topicstringtemp = topicstringtemp + topicstring\n",
        "    filtered_dataset.at[index, 'topics'] = topicstringtemp"
      ],
      "metadata": {
        "id": "s3jBU1HDQkk2"
      },
      "execution_count": null,
      "outputs": []
    },
    {
      "cell_type": "code",
      "source": [
        "filtered_dataset.head()"
      ],
      "metadata": {
        "colab": {
          "base_uri": "https://localhost:8080/",
          "height": 423
        },
        "id": "2-qKU0FBJi2i",
        "outputId": "c0057e81-2789-4cbe-cb2c-9908ea98cb80"
      },
      "execution_count": null,
      "outputs": [
        {
          "output_type": "execute_result",
          "data": {
            "text/plain": [
              "   level_0  index                       disciplines  \\\n",
              "0        0      0  Applied Science/Computer Science   \n",
              "1        1      1  Applied Science/Computer Science   \n",
              "2        2      2  Applied Science/Computer Science   \n",
              "3        3      3  Applied Science/Computer Science   \n",
              "4        4      4  Applied Science/Computer Science   \n",
              "\n",
              "                                            title  \\\n",
              "0                                Intro to Scratch   \n",
              "1                                Intro to Scratch   \n",
              "2  Intro to Vectors Physics and Augmented Reality   \n",
              "3                              Intro to computers   \n",
              "4                         Intro to the Zotero API   \n",
              "\n",
              "                                         description  \\\n",
              "0  In this lesson, students will begin exploring ...   \n",
              "1  Students encounter the Scratch programming pla...   \n",
              "2  Students learn about video motion capture tech...   \n",
              "3           Introduction to Computers - brief videos   \n",
              "4  In this lesson, you’ll learn how to use python...   \n",
              "\n",
              "                                     WikiDescription  \\\n",
              "0  Scratch è un ambiente di programmazione gratui...   \n",
              "1  Scratch è adatto a studenti, insegnanti e geni...   \n",
              "2  Per realtà aumentata, o realtà mediata dall'el...   \n",
              "3  Un computer, è una macchina automatizzata prog...   \n",
              "4  Zotero è un software per la gestione di riferi...   \n",
              "\n",
              "                                   text_preprocessed  \\\n",
              "0  [scratch, ambiente, programmazione, gratuito, ...   \n",
              "1  [scratch, adatto, studenti, insegnanti, genito...   \n",
              "2  [realta, aumentata, realta, mediata, elaborato...   \n",
              "3  [computer, macchina, automatizzata, programmab...   \n",
              "4  [zotero, software, gestione, riferimenti, bibl...   \n",
              "\n",
              "                                              topics  coherence  \n",
              "0  programmazione+ambiente+grafico+gratuito+lingu...        1.0  \n",
              "1  adatto+genitori+animazioni+matematica+spaziano...        1.0  \n",
              "2  realta+arricchimento+informazioni+intende+uman...        1.0  \n",
              "3  tipi+programmabile+eseguire+matematici+macchin...        1.0  \n",
              "4  bibliografici+gestione+materiali+riferimenti+s...        1.0  "
            ],
            "text/html": [
              "\n",
              "  <div id=\"df-b9cdf95e-9a11-406c-9b2e-0f0c2215dd5a\">\n",
              "    <div class=\"colab-df-container\">\n",
              "      <div>\n",
              "<style scoped>\n",
              "    .dataframe tbody tr th:only-of-type {\n",
              "        vertical-align: middle;\n",
              "    }\n",
              "\n",
              "    .dataframe tbody tr th {\n",
              "        vertical-align: top;\n",
              "    }\n",
              "\n",
              "    .dataframe thead th {\n",
              "        text-align: right;\n",
              "    }\n",
              "</style>\n",
              "<table border=\"1\" class=\"dataframe\">\n",
              "  <thead>\n",
              "    <tr style=\"text-align: right;\">\n",
              "      <th></th>\n",
              "      <th>level_0</th>\n",
              "      <th>index</th>\n",
              "      <th>disciplines</th>\n",
              "      <th>title</th>\n",
              "      <th>description</th>\n",
              "      <th>WikiDescription</th>\n",
              "      <th>text_preprocessed</th>\n",
              "      <th>topics</th>\n",
              "      <th>coherence</th>\n",
              "    </tr>\n",
              "  </thead>\n",
              "  <tbody>\n",
              "    <tr>\n",
              "      <th>0</th>\n",
              "      <td>0</td>\n",
              "      <td>0</td>\n",
              "      <td>Applied Science/Computer Science</td>\n",
              "      <td>Intro to Scratch</td>\n",
              "      <td>In this lesson, students will begin exploring ...</td>\n",
              "      <td>Scratch è un ambiente di programmazione gratui...</td>\n",
              "      <td>[scratch, ambiente, programmazione, gratuito, ...</td>\n",
              "      <td>programmazione+ambiente+grafico+gratuito+lingu...</td>\n",
              "      <td>1.0</td>\n",
              "    </tr>\n",
              "    <tr>\n",
              "      <th>1</th>\n",
              "      <td>1</td>\n",
              "      <td>1</td>\n",
              "      <td>Applied Science/Computer Science</td>\n",
              "      <td>Intro to Scratch</td>\n",
              "      <td>Students encounter the Scratch programming pla...</td>\n",
              "      <td>Scratch è adatto a studenti, insegnanti e geni...</td>\n",
              "      <td>[scratch, adatto, studenti, insegnanti, genito...</td>\n",
              "      <td>adatto+genitori+animazioni+matematica+spaziano...</td>\n",
              "      <td>1.0</td>\n",
              "    </tr>\n",
              "    <tr>\n",
              "      <th>2</th>\n",
              "      <td>2</td>\n",
              "      <td>2</td>\n",
              "      <td>Applied Science/Computer Science</td>\n",
              "      <td>Intro to Vectors Physics and Augmented Reality</td>\n",
              "      <td>Students learn about video motion capture tech...</td>\n",
              "      <td>Per realtà aumentata, o realtà mediata dall'el...</td>\n",
              "      <td>[realta, aumentata, realta, mediata, elaborato...</td>\n",
              "      <td>realta+arricchimento+informazioni+intende+uman...</td>\n",
              "      <td>1.0</td>\n",
              "    </tr>\n",
              "    <tr>\n",
              "      <th>3</th>\n",
              "      <td>3</td>\n",
              "      <td>3</td>\n",
              "      <td>Applied Science/Computer Science</td>\n",
              "      <td>Intro to computers</td>\n",
              "      <td>Introduction to Computers - brief videos</td>\n",
              "      <td>Un computer, è una macchina automatizzata prog...</td>\n",
              "      <td>[computer, macchina, automatizzata, programmab...</td>\n",
              "      <td>tipi+programmabile+eseguire+matematici+macchin...</td>\n",
              "      <td>1.0</td>\n",
              "    </tr>\n",
              "    <tr>\n",
              "      <th>4</th>\n",
              "      <td>4</td>\n",
              "      <td>4</td>\n",
              "      <td>Applied Science/Computer Science</td>\n",
              "      <td>Intro to the Zotero API</td>\n",
              "      <td>In this lesson, you’ll learn how to use python...</td>\n",
              "      <td>Zotero è un software per la gestione di riferi...</td>\n",
              "      <td>[zotero, software, gestione, riferimenti, bibl...</td>\n",
              "      <td>bibliografici+gestione+materiali+riferimenti+s...</td>\n",
              "      <td>1.0</td>\n",
              "    </tr>\n",
              "  </tbody>\n",
              "</table>\n",
              "</div>\n",
              "      <button class=\"colab-df-convert\" onclick=\"convertToInteractive('df-b9cdf95e-9a11-406c-9b2e-0f0c2215dd5a')\"\n",
              "              title=\"Convert this dataframe to an interactive table.\"\n",
              "              style=\"display:none;\">\n",
              "        \n",
              "  <svg xmlns=\"http://www.w3.org/2000/svg\" height=\"24px\"viewBox=\"0 0 24 24\"\n",
              "       width=\"24px\">\n",
              "    <path d=\"M0 0h24v24H0V0z\" fill=\"none\"/>\n",
              "    <path d=\"M18.56 5.44l.94 2.06.94-2.06 2.06-.94-2.06-.94-.94-2.06-.94 2.06-2.06.94zm-11 1L8.5 8.5l.94-2.06 2.06-.94-2.06-.94L8.5 2.5l-.94 2.06-2.06.94zm10 10l.94 2.06.94-2.06 2.06-.94-2.06-.94-.94-2.06-.94 2.06-2.06.94z\"/><path d=\"M17.41 7.96l-1.37-1.37c-.4-.4-.92-.59-1.43-.59-.52 0-1.04.2-1.43.59L10.3 9.45l-7.72 7.72c-.78.78-.78 2.05 0 2.83L4 21.41c.39.39.9.59 1.41.59.51 0 1.02-.2 1.41-.59l7.78-7.78 2.81-2.81c.8-.78.8-2.07 0-2.86zM5.41 20L4 18.59l7.72-7.72 1.47 1.35L5.41 20z\"/>\n",
              "  </svg>\n",
              "      </button>\n",
              "      \n",
              "  <style>\n",
              "    .colab-df-container {\n",
              "      display:flex;\n",
              "      flex-wrap:wrap;\n",
              "      gap: 12px;\n",
              "    }\n",
              "\n",
              "    .colab-df-convert {\n",
              "      background-color: #E8F0FE;\n",
              "      border: none;\n",
              "      border-radius: 50%;\n",
              "      cursor: pointer;\n",
              "      display: none;\n",
              "      fill: #1967D2;\n",
              "      height: 32px;\n",
              "      padding: 0 0 0 0;\n",
              "      width: 32px;\n",
              "    }\n",
              "\n",
              "    .colab-df-convert:hover {\n",
              "      background-color: #E2EBFA;\n",
              "      box-shadow: 0px 1px 2px rgba(60, 64, 67, 0.3), 0px 1px 3px 1px rgba(60, 64, 67, 0.15);\n",
              "      fill: #174EA6;\n",
              "    }\n",
              "\n",
              "    [theme=dark] .colab-df-convert {\n",
              "      background-color: #3B4455;\n",
              "      fill: #D2E3FC;\n",
              "    }\n",
              "\n",
              "    [theme=dark] .colab-df-convert:hover {\n",
              "      background-color: #434B5C;\n",
              "      box-shadow: 0px 1px 3px 1px rgba(0, 0, 0, 0.15);\n",
              "      filter: drop-shadow(0px 1px 2px rgba(0, 0, 0, 0.3));\n",
              "      fill: #FFFFFF;\n",
              "    }\n",
              "  </style>\n",
              "\n",
              "      <script>\n",
              "        const buttonEl =\n",
              "          document.querySelector('#df-b9cdf95e-9a11-406c-9b2e-0f0c2215dd5a button.colab-df-convert');\n",
              "        buttonEl.style.display =\n",
              "          google.colab.kernel.accessAllowed ? 'block' : 'none';\n",
              "\n",
              "        async function convertToInteractive(key) {\n",
              "          const element = document.querySelector('#df-b9cdf95e-9a11-406c-9b2e-0f0c2215dd5a');\n",
              "          const dataTable =\n",
              "            await google.colab.kernel.invokeFunction('convertToInteractive',\n",
              "                                                     [key], {});\n",
              "          if (!dataTable) return;\n",
              "\n",
              "          const docLinkHtml = 'Like what you see? Visit the ' +\n",
              "            '<a target=\"_blank\" href=https://colab.research.google.com/notebooks/data_table.ipynb>data table notebook</a>'\n",
              "            + ' to learn more about interactive tables.';\n",
              "          element.innerHTML = '';\n",
              "          dataTable['output_type'] = 'display_data';\n",
              "          await google.colab.output.renderOutput(dataTable, element);\n",
              "          const docLink = document.createElement('div');\n",
              "          docLink.innerHTML = docLinkHtml;\n",
              "          element.appendChild(docLink);\n",
              "        }\n",
              "      </script>\n",
              "    </div>\n",
              "  </div>\n",
              "  "
            ]
          },
          "metadata": {},
          "execution_count": 35
        }
      ]
    },
    {
      "cell_type": "code",
      "source": [
        "###############################################################################################"
      ],
      "metadata": {
        "id": "0ctrJ-2BwGiR"
      },
      "execution_count": null,
      "outputs": []
    },
    {
      "cell_type": "code",
      "source": [
        "from gensim import corpora\n",
        "\n",
        "\n",
        "# create a dictionary with the corpus\n",
        "corpus = filtered_dataset['text_preprocessed']\n",
        "dictionary = corpora.Dictionary(corpus)\n",
        "\n",
        "# convert corpus into a bag of words\n",
        "bow = [dictionary.doc2bow(text) for text in corpus]"
      ],
      "metadata": {
        "id": "_caPZQ6W-rjb"
      },
      "execution_count": null,
      "outputs": []
    },
    {
      "cell_type": "code",
      "source": [
        "from gensim.models import LsiModel\n",
        "from gensim.models.coherencemodel import CoherenceModel\n",
        "\n",
        "# find the coherence score with a different number of topics\n",
        "for i in range(1,15):\n",
        "    lsi = LsiModel(bow, num_topics=i, id2word=dictionary)\n",
        "    coherence_model = CoherenceModel(model=lsi, texts=filtered_dataset['text_preprocessed'], dictionary=dictionary, coherence='c_v')\n",
        "    coherence_score = coherence_model.get_coherence()\n",
        "    print('Coherence score with {} clusters: {}'.format(i, coherence_score))"
      ],
      "metadata": {
        "colab": {
          "base_uri": "https://localhost:8080/"
        },
        "id": "SV8K8rsS_Ro8",
        "outputId": "399ae347-17bb-40a1-b871-1ee47f43f7db"
      },
      "execution_count": null,
      "outputs": [
        {
          "output_type": "stream",
          "name": "stdout",
          "text": [
            "Coherence score with 1 clusters: 0.6355236653364047\n",
            "Coherence score with 2 clusters: 0.4985176122789239\n",
            "Coherence score with 3 clusters: 0.7158417664086908\n",
            "Coherence score with 4 clusters: 0.45559119134964576\n",
            "Coherence score with 5 clusters: 0.5466763026474556\n",
            "Coherence score with 6 clusters: 0.5800144189406595\n",
            "Coherence score with 7 clusters: 0.607061742804509\n",
            "Coherence score with 8 clusters: 0.487045974960413\n",
            "Coherence score with 9 clusters: 0.47746204452121777\n",
            "Coherence score with 10 clusters: 0.4843566304944037\n",
            "Coherence score with 11 clusters: 0.4846675492462574\n",
            "Coherence score with 12 clusters: 0.4843826227770996\n",
            "Coherence score with 13 clusters: 0.448799480926423\n",
            "Coherence score with 14 clusters: 0.5039861462568233\n"
          ]
        }
      ]
    },
    {
      "cell_type": "code",
      "source": [
        "lsi = LsiModel(bow, num_topics=7, id2word=dictionary)"
      ],
      "metadata": {
        "id": "iYY306X5_6N0"
      },
      "execution_count": null,
      "outputs": []
    },
    {
      "cell_type": "code",
      "source": [
        "# find the 5 words with the srongest association to the derived topics\n",
        "for topic_num, words in lsi.print_topics(num_words=10):\n",
        "    print('Words in {}: {}.'.format(topic_num, words))"
      ],
      "metadata": {
        "colab": {
          "base_uri": "https://localhost:8080/"
        },
        "id": "ieoUnqhl_-by",
        "outputId": "99c49517-7c0a-46ec-d366-e60a01bf9434"
      },
      "execution_count": null,
      "outputs": [
        {
          "output_type": "stream",
          "name": "stdout",
          "text": [
            "Words in 0: 0.534*\"ciclo\" + 0.250*\"puo\" + 0.244*\"valore\" + 0.238*\"contatore\" + 0.213*\"numero\" + 0.206*\"for\" + 0.183*\"essere\" + 0.182*\"variabile\" + 0.147*\"linguaggi\" + 0.144*\"genere\".\n",
            "Words in 1: 0.436*\"dati\" + 0.419*\"web\" + 0.268*\"piu\" + 0.227*\"sviluppo\" + 0.171*\"software\" + -0.162*\"ciclo\" + 0.155*\"informatica\" + 0.126*\"programmazione\" + 0.104*\"rete\" + 0.098*\"apprendimento\".\n",
            "Words in 2: -0.613*\"web\" + 0.524*\"dati\" + -0.283*\"sviluppo\" + 0.117*\"analisi\" + 0.096*\"apprendimento\" + -0.090*\"end\" + -0.088*\"sviluppatori\" + -0.087*\"sviluppatore\" + 0.087*\"data\" + -0.081*\"contenuti\".\n",
            "Words in 3: 0.494*\"dati\" + -0.343*\"software\" + -0.254*\"programmazione\" + 0.226*\"web\" + -0.218*\"programma\" + -0.176*\"piu\" + -0.163*\"eventi\" + 0.134*\"analisi\" + -0.131*\"codice\" + -0.123*\"informatica\".\n",
            "Words in 4: 0.330*\"stati\" + 0.313*\"apprendimento\" + 0.273*\"uniti\" + -0.248*\"software\" + -0.204*\"dati\" + 0.202*\"automatico\" + -0.157*\"eventi\" + 0.145*\"guerra\" + 0.117*\"riconoscimento\" + 0.116*\"algoritmi\".\n",
            "Words in 5: -0.368*\"stati\" + 0.351*\"apprendimento\" + -0.304*\"uniti\" + 0.221*\"automatico\" + -0.161*\"guerra\" + -0.161*\"dati\" + 0.131*\"algoritmi\" + -0.122*\"mondiale\" + 0.111*\"computazionale\" + 0.110*\"rete\".\n",
            "Words in 6: 0.425*\"software\" + 0.303*\"eventi\" + -0.202*\"programma\" + -0.196*\"linguaggio\" + -0.189*\"programmazione\" + -0.173*\"codice\" + 0.141*\"sistema\" + 0.132*\"spesso\" + -0.119*\"interno\" + -0.113*\"determinati\".\n"
          ]
        }
      ]
    },
    {
      "cell_type": "code",
      "source": [
        "# find the scores given between the review and each topic\n",
        "corpus_lsi = lsi[bow]\n",
        "score1 = []\n",
        "score2 = []\n",
        "score3 = []\n",
        "score4 = []\n",
        "score5 = []\n",
        "score6 = []\n",
        "score7 = []\n",
        "for doc in corpus_lsi:\n",
        "    score1.append(round(doc[0][1],2))\n",
        "    score2.append(round(doc[1][1],2))\n",
        "    score3.append(round(doc[2][1],2))\n",
        "    score4.append(round(doc[3][1],2))\n",
        "    score5.append(round(doc[4][1],2))\n",
        "    score6.append(round(doc[5][1],2))\n",
        "    score7.append(round(doc[6][1],2))\n",
        "\n",
        "# create data frame that shows scores assigned for both topics for each review\n",
        "df_topic = pd.DataFrame()\n",
        "df_topic['Text'] = filtered_dataset['text_preprocessed']\n",
        "df_topic['Topic 0 score'] = score1\n",
        "df_topic['Topic 1 score'] = score2\n",
        "df_topic['Topic 2 score'] = score3\n",
        "df_topic['Topic 3 score'] = score4\n",
        "df_topic['Topic 4 score'] = score5\n",
        "df_topic['Topic 5 score'] = score6\n",
        "df_topic['Topic 6 score'] = score7\n",
        "\n",
        "df_topic['Topic']= df_topic[['Topic 0 score', 'Topic 1 score', 'Topic 2 score', 'Topic 3 score', 'Topic 4 score', 'Topic 5 score', 'Topic 6 score']].apply(lambda x: x.argmax(), axis=1)\n",
        "df_topic.head()"
      ],
      "metadata": {
        "colab": {
          "base_uri": "https://localhost:8080/",
          "height": 206
        },
        "id": "RwBSum9KKo-Q",
        "outputId": "168c750c-df7d-4f1d-8546-cc8868fb2f1e"
      },
      "execution_count": null,
      "outputs": [
        {
          "output_type": "execute_result",
          "data": {
            "text/plain": [
              "                                                Text  Topic 0 score  \\\n",
              "0  [scratch, ambiente, programmazione, gratuito, ...           0.39   \n",
              "1  [scratch, adatto, studenti, insegnanti, genito...           0.05   \n",
              "2  [realta, aumentata, realta, mediata, elaborato...           0.16   \n",
              "3  [computer, macchina, automatizzata, programmab...           0.18   \n",
              "4  [zotero, software, gestione, riferimenti, bibl...           0.07   \n",
              "\n",
              "   Topic 1 score  Topic 2 score  Topic 3 score  Topic 4 score  Topic 5 score  \\\n",
              "0           0.39           0.17          -0.68          -0.06           0.25   \n",
              "1           0.21           0.12          -0.22           0.19           0.33   \n",
              "2           0.06           0.04           0.04           0.01          -0.04   \n",
              "3           0.67           0.65           0.42          -0.09          -0.16   \n",
              "4           0.22           0.03          -0.35          -0.26          -0.10   \n",
              "\n",
              "   Topic 6 score  Topic  \n",
              "0          -0.59      0  \n",
              "1          -0.16      5  \n",
              "2           0.07      0  \n",
              "3           0.16      1  \n",
              "4           0.48      6  "
            ],
            "text/html": [
              "\n",
              "  <div id=\"df-48d2b8c3-36be-4d17-8a57-aa862f2da3fc\">\n",
              "    <div class=\"colab-df-container\">\n",
              "      <div>\n",
              "<style scoped>\n",
              "    .dataframe tbody tr th:only-of-type {\n",
              "        vertical-align: middle;\n",
              "    }\n",
              "\n",
              "    .dataframe tbody tr th {\n",
              "        vertical-align: top;\n",
              "    }\n",
              "\n",
              "    .dataframe thead th {\n",
              "        text-align: right;\n",
              "    }\n",
              "</style>\n",
              "<table border=\"1\" class=\"dataframe\">\n",
              "  <thead>\n",
              "    <tr style=\"text-align: right;\">\n",
              "      <th></th>\n",
              "      <th>Text</th>\n",
              "      <th>Topic 0 score</th>\n",
              "      <th>Topic 1 score</th>\n",
              "      <th>Topic 2 score</th>\n",
              "      <th>Topic 3 score</th>\n",
              "      <th>Topic 4 score</th>\n",
              "      <th>Topic 5 score</th>\n",
              "      <th>Topic 6 score</th>\n",
              "      <th>Topic</th>\n",
              "    </tr>\n",
              "  </thead>\n",
              "  <tbody>\n",
              "    <tr>\n",
              "      <th>0</th>\n",
              "      <td>[scratch, ambiente, programmazione, gratuito, ...</td>\n",
              "      <td>0.39</td>\n",
              "      <td>0.39</td>\n",
              "      <td>0.17</td>\n",
              "      <td>-0.68</td>\n",
              "      <td>-0.06</td>\n",
              "      <td>0.25</td>\n",
              "      <td>-0.59</td>\n",
              "      <td>0</td>\n",
              "    </tr>\n",
              "    <tr>\n",
              "      <th>1</th>\n",
              "      <td>[scratch, adatto, studenti, insegnanti, genito...</td>\n",
              "      <td>0.05</td>\n",
              "      <td>0.21</td>\n",
              "      <td>0.12</td>\n",
              "      <td>-0.22</td>\n",
              "      <td>0.19</td>\n",
              "      <td>0.33</td>\n",
              "      <td>-0.16</td>\n",
              "      <td>5</td>\n",
              "    </tr>\n",
              "    <tr>\n",
              "      <th>2</th>\n",
              "      <td>[realta, aumentata, realta, mediata, elaborato...</td>\n",
              "      <td>0.16</td>\n",
              "      <td>0.06</td>\n",
              "      <td>0.04</td>\n",
              "      <td>0.04</td>\n",
              "      <td>0.01</td>\n",
              "      <td>-0.04</td>\n",
              "      <td>0.07</td>\n",
              "      <td>0</td>\n",
              "    </tr>\n",
              "    <tr>\n",
              "      <th>3</th>\n",
              "      <td>[computer, macchina, automatizzata, programmab...</td>\n",
              "      <td>0.18</td>\n",
              "      <td>0.67</td>\n",
              "      <td>0.65</td>\n",
              "      <td>0.42</td>\n",
              "      <td>-0.09</td>\n",
              "      <td>-0.16</td>\n",
              "      <td>0.16</td>\n",
              "      <td>1</td>\n",
              "    </tr>\n",
              "    <tr>\n",
              "      <th>4</th>\n",
              "      <td>[zotero, software, gestione, riferimenti, bibl...</td>\n",
              "      <td>0.07</td>\n",
              "      <td>0.22</td>\n",
              "      <td>0.03</td>\n",
              "      <td>-0.35</td>\n",
              "      <td>-0.26</td>\n",
              "      <td>-0.10</td>\n",
              "      <td>0.48</td>\n",
              "      <td>6</td>\n",
              "    </tr>\n",
              "  </tbody>\n",
              "</table>\n",
              "</div>\n",
              "      <button class=\"colab-df-convert\" onclick=\"convertToInteractive('df-48d2b8c3-36be-4d17-8a57-aa862f2da3fc')\"\n",
              "              title=\"Convert this dataframe to an interactive table.\"\n",
              "              style=\"display:none;\">\n",
              "        \n",
              "  <svg xmlns=\"http://www.w3.org/2000/svg\" height=\"24px\"viewBox=\"0 0 24 24\"\n",
              "       width=\"24px\">\n",
              "    <path d=\"M0 0h24v24H0V0z\" fill=\"none\"/>\n",
              "    <path d=\"M18.56 5.44l.94 2.06.94-2.06 2.06-.94-2.06-.94-.94-2.06-.94 2.06-2.06.94zm-11 1L8.5 8.5l.94-2.06 2.06-.94-2.06-.94L8.5 2.5l-.94 2.06-2.06.94zm10 10l.94 2.06.94-2.06 2.06-.94-2.06-.94-.94-2.06-.94 2.06-2.06.94z\"/><path d=\"M17.41 7.96l-1.37-1.37c-.4-.4-.92-.59-1.43-.59-.52 0-1.04.2-1.43.59L10.3 9.45l-7.72 7.72c-.78.78-.78 2.05 0 2.83L4 21.41c.39.39.9.59 1.41.59.51 0 1.02-.2 1.41-.59l7.78-7.78 2.81-2.81c.8-.78.8-2.07 0-2.86zM5.41 20L4 18.59l7.72-7.72 1.47 1.35L5.41 20z\"/>\n",
              "  </svg>\n",
              "      </button>\n",
              "      \n",
              "  <style>\n",
              "    .colab-df-container {\n",
              "      display:flex;\n",
              "      flex-wrap:wrap;\n",
              "      gap: 12px;\n",
              "    }\n",
              "\n",
              "    .colab-df-convert {\n",
              "      background-color: #E8F0FE;\n",
              "      border: none;\n",
              "      border-radius: 50%;\n",
              "      cursor: pointer;\n",
              "      display: none;\n",
              "      fill: #1967D2;\n",
              "      height: 32px;\n",
              "      padding: 0 0 0 0;\n",
              "      width: 32px;\n",
              "    }\n",
              "\n",
              "    .colab-df-convert:hover {\n",
              "      background-color: #E2EBFA;\n",
              "      box-shadow: 0px 1px 2px rgba(60, 64, 67, 0.3), 0px 1px 3px 1px rgba(60, 64, 67, 0.15);\n",
              "      fill: #174EA6;\n",
              "    }\n",
              "\n",
              "    [theme=dark] .colab-df-convert {\n",
              "      background-color: #3B4455;\n",
              "      fill: #D2E3FC;\n",
              "    }\n",
              "\n",
              "    [theme=dark] .colab-df-convert:hover {\n",
              "      background-color: #434B5C;\n",
              "      box-shadow: 0px 1px 3px 1px rgba(0, 0, 0, 0.15);\n",
              "      filter: drop-shadow(0px 1px 2px rgba(0, 0, 0, 0.3));\n",
              "      fill: #FFFFFF;\n",
              "    }\n",
              "  </style>\n",
              "\n",
              "      <script>\n",
              "        const buttonEl =\n",
              "          document.querySelector('#df-48d2b8c3-36be-4d17-8a57-aa862f2da3fc button.colab-df-convert');\n",
              "        buttonEl.style.display =\n",
              "          google.colab.kernel.accessAllowed ? 'block' : 'none';\n",
              "\n",
              "        async function convertToInteractive(key) {\n",
              "          const element = document.querySelector('#df-48d2b8c3-36be-4d17-8a57-aa862f2da3fc');\n",
              "          const dataTable =\n",
              "            await google.colab.kernel.invokeFunction('convertToInteractive',\n",
              "                                                     [key], {});\n",
              "          if (!dataTable) return;\n",
              "\n",
              "          const docLinkHtml = 'Like what you see? Visit the ' +\n",
              "            '<a target=\"_blank\" href=https://colab.research.google.com/notebooks/data_table.ipynb>data table notebook</a>'\n",
              "            + ' to learn more about interactive tables.';\n",
              "          element.innerHTML = '';\n",
              "          dataTable['output_type'] = 'display_data';\n",
              "          await google.colab.output.renderOutput(dataTable, element);\n",
              "          const docLink = document.createElement('div');\n",
              "          docLink.innerHTML = docLinkHtml;\n",
              "          element.appendChild(docLink);\n",
              "        }\n",
              "      </script>\n",
              "    </div>\n",
              "  </div>\n",
              "  "
            ]
          },
          "metadata": {},
          "execution_count": 146
        }
      ]
    },
    {
      "cell_type": "code",
      "source": [
        "df_topic0 = df_topic[df_topic['Topic'] == 0]\n",
        "df_topic1 = df_topic[df_topic['Topic']==1]\n",
        "print('Sample text from topic 0:\\n {}'.format(df_topic0.sample(1, random_state=2)['Text'].values))\n",
        "print('\\nSample text from topic 1:\\n {}'.format(df_topic1.sample(1, random_state=2)['Text'].values))"
      ],
      "metadata": {
        "colab": {
          "base_uri": "https://localhost:8080/"
        },
        "id": "S0XSjcrjl28N",
        "outputId": "4ee0c3d2-9771-4489-8f4b-8d35639b3b7a"
      },
      "execution_count": null,
      "outputs": [
        {
          "output_type": "stream",
          "name": "stdout",
          "text": [
            "Sample text from topic 0:\n",
            " [list(['python', 'linguaggio', 'programmazione', 'alto', 'livello', 'orientato', 'oggetti', 'adatto', 'altri', 'usi', 'sviluppare', 'applicazioni', 'distribuite', 'scripting', 'computazione', 'numerica', 'system', 'testing'])]\n",
            "\n",
            "Sample text from topic 1:\n",
            " [list(['carpentries', 'organizzazione', 'senza', 'scopo', 'lucro', 'insegna', 'competenze', 'ingegneria', 'software', 'scienza', 'dati', 'ricercatori', 'attraverso', 'laboratori', 'didattici', 'carpentries', 'compone', 'tre', 'aree', 'programma', 'software', 'carpentry', 'data', 'carpentry', 'library', 'carpentry', 'workshop', 'carpentries', 'stati', 'organizzati', 'livello', 'internazionale', 'workshop', 'presso', 'smithsonian', 'institution', 'australian', 'research', 'data', 'commons', 'cern', 'antartide'])]\n"
          ]
        }
      ]
    }
  ]
}